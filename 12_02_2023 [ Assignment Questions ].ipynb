{
 "cells": [
  {
   "cell_type": "markdown",
   "id": "c6ccb001",
   "metadata": {},
   "source": [
    "### Question no.1:  What is an Exception in python ? Write the difference between Exeption and Syntax errors.\n",
    "### Answer:In Python, an exception is a runtime error that occurs during the execution of a program. When an error occurs, Python raises an exception, which can be caught and handled by the program.\n",
    "\n",
    "### Syntax errors, on the other hand, occur during the parsing of a program. These errors occur when the syntax of the code is incorrect, such as missing parentheses or misspelled keywords. Syntax errors are detected by the Python interpreter when the program is compiled, and the program will not run until these errors are fixed.\n",
    "\n",
    "### The key difference between exceptions and syntax errors is when they occur during the program's execution. Syntax errors occur before the program runs, while exceptions occur during the program's runtime. Additionally, syntax errors are usually caused by mistakes in the program's code, while exceptions can occur for a variety of reasons, such as incorrect input data, missing files, or network problems.\n",
    "\n",
    "### When an exception occurs during the execution of a Python program, it will halt the program's execution and raise an error message. To handle exceptions, Python provides a try-except block that allows the program to catch the exception and handle it gracefully without crashing. This way, the program can continue to run despite encountering errors, improving its robustness and reliability."
   ]
  },
  {
   "cell_type": "markdown",
   "id": "d7542b77",
   "metadata": {},
   "source": [
    "### Question no.2: What happens when an exception is not handled ? Explain with an example.\n",
    "### Answer: When an exception is not handled, it propagates up the call stack until it either reaches a try-catch block that can handle it, or it reaches the top-level of the program, in which case the program terminates with an error message.\n",
    "\n",
    "### For example, consider the following code:"
   ]
  },
  {
   "cell_type": "code",
   "execution_count": 1,
   "id": "c6149541",
   "metadata": {},
   "outputs": [
    {
     "ename": "ZeroDivisionError",
     "evalue": "division by zero",
     "output_type": "error",
     "traceback": [
      "\u001b[1;31m---------------------------------------------------------------------------\u001b[0m",
      "\u001b[1;31mZeroDivisionError\u001b[0m                         Traceback (most recent call last)",
      "\u001b[1;32m~\\AppData\\Local\\Temp\\ipykernel_12264\\3394624126.py\u001b[0m in \u001b[0;36m<module>\u001b[1;34m\u001b[0m\n\u001b[0;32m      5\u001b[0m \u001b[0my\u001b[0m \u001b[1;33m=\u001b[0m \u001b[1;36m0\u001b[0m\u001b[1;33m\u001b[0m\u001b[1;33m\u001b[0m\u001b[0m\n\u001b[0;32m      6\u001b[0m \u001b[1;33m\u001b[0m\u001b[0m\n\u001b[1;32m----> 7\u001b[1;33m \u001b[0mresult\u001b[0m \u001b[1;33m=\u001b[0m \u001b[0mdivide\u001b[0m\u001b[1;33m(\u001b[0m\u001b[0mx\u001b[0m\u001b[1;33m,\u001b[0m\u001b[0my\u001b[0m\u001b[1;33m)\u001b[0m\u001b[1;33m\u001b[0m\u001b[1;33m\u001b[0m\u001b[0m\n\u001b[0m\u001b[0;32m      8\u001b[0m \u001b[0mprint\u001b[0m\u001b[1;33m(\u001b[0m\u001b[0mresult\u001b[0m\u001b[1;33m)\u001b[0m\u001b[1;33m\u001b[0m\u001b[1;33m\u001b[0m\u001b[0m\n",
      "\u001b[1;32m~\\AppData\\Local\\Temp\\ipykernel_12264\\3394624126.py\u001b[0m in \u001b[0;36mdivide\u001b[1;34m(a, b)\u001b[0m\n\u001b[0;32m      1\u001b[0m \u001b[1;32mdef\u001b[0m \u001b[0mdivide\u001b[0m\u001b[1;33m(\u001b[0m\u001b[0ma\u001b[0m\u001b[1;33m,\u001b[0m\u001b[0mb\u001b[0m\u001b[1;33m)\u001b[0m\u001b[1;33m:\u001b[0m\u001b[1;33m\u001b[0m\u001b[1;33m\u001b[0m\u001b[0m\n\u001b[1;32m----> 2\u001b[1;33m     \u001b[1;32mreturn\u001b[0m \u001b[0ma\u001b[0m\u001b[1;33m/\u001b[0m\u001b[0mb\u001b[0m\u001b[1;33m\u001b[0m\u001b[1;33m\u001b[0m\u001b[0m\n\u001b[0m\u001b[0;32m      3\u001b[0m \u001b[1;33m\u001b[0m\u001b[0m\n\u001b[0;32m      4\u001b[0m \u001b[0mx\u001b[0m \u001b[1;33m=\u001b[0m \u001b[1;36m10\u001b[0m\u001b[1;33m\u001b[0m\u001b[1;33m\u001b[0m\u001b[0m\n\u001b[0;32m      5\u001b[0m \u001b[0my\u001b[0m \u001b[1;33m=\u001b[0m \u001b[1;36m0\u001b[0m\u001b[1;33m\u001b[0m\u001b[1;33m\u001b[0m\u001b[0m\n",
      "\u001b[1;31mZeroDivisionError\u001b[0m: division by zero"
     ]
    }
   ],
   "source": [
    "def divide(a,b):\n",
    "    return a/b\n",
    "\n",
    "x = 10\n",
    "y = 0\n",
    "\n",
    "result = divide(x,y)\n",
    "print(result)"
   ]
  },
  {
   "cell_type": "markdown",
   "id": "157f4b0f",
   "metadata": {},
   "source": [
    "### In this code, we define a function divide that divides two numbers. We then attempt to call this function with x = 10 and y = 0, which will result in a ZeroDivisionError, since division by zero is undefined."
   ]
  },
  {
   "cell_type": "markdown",
   "id": "b5e0b6f0",
   "metadata": {},
   "source": [
    "### Question no.3: Which Python statements are used to catch and handle exceptions ? Explain with an example.\n",
    "### Answer: In Python, the try and except statements are used to catch and handle exceptions.\n",
    "\n",
    "### The basic syntax of a try-except block is as follows:"
   ]
  },
  {
   "cell_type": "markdown",
   "id": "ff0c5994",
   "metadata": {},
   "source": [
    "### try:\n",
    "   ### # code that may raise an exception\n",
    "### except ExceptionType:\n",
    "   ### # code to handle the exception\n"
   ]
  },
  {
   "cell_type": "markdown",
   "id": "db701a48",
   "metadata": {},
   "source": [
    "### In this syntax, we enclose the code that may raise an exception in a try block. If an exception is raised in this block, execution of the code in the try block is immediately stopped and the exception is passed to the except block.\n",
    "\n",
    "### The except block contains code to handle the exception. The ExceptionType argument specifies the type of exception that this block should handle. If the exception that was raised in the try block matches the type of exception specified in the except block, the code in the except block is executed. If the exception does not match the type specified in the except block, the exception is propagated up the call stack to the next try-except block or the top-level of the program.\n",
    "\n",
    "### Here is an example of using a try-except block to catch and handle a ZeroDivisionError:"
   ]
  },
  {
   "cell_type": "code",
   "execution_count": 6,
   "id": "0ae16e6f",
   "metadata": {},
   "outputs": [
    {
     "name": "stdout",
     "output_type": "stream",
     "text": [
      "Error: Cannot divide by zero\n",
      "None\n"
     ]
    }
   ],
   "source": [
    "def divide(a,b):\n",
    "    try:\n",
    "        return a/b\n",
    "    except ZeroDivisionError:\n",
    "        print(\"Error: Cannot divide by zero\")\n",
    "        return None\n",
    "    \n",
    "x = 10\n",
    "y = 0\n",
    "result = divide(x,y)\n",
    "print(result)"
   ]
  },
  {
   "cell_type": "markdown",
   "id": "2f457d44",
   "metadata": {},
   "source": [
    "### Question no.4: Explain with an example:\n",
    "### a. try and else\n",
    "### b. finally \n",
    "### c. raise\n",
    "### Answer :a. try and else are two keywords used in Python to handle exceptions. The basic syntax for using try and else is as follows:"
   ]
  },
  {
   "cell_type": "code",
   "execution_count": null,
   "id": "f98b4cce",
   "metadata": {},
   "outputs": [],
   "source": [
    "try:\n",
    "    # code that may raise an exception\n",
    "except:\n",
    "    # code to handle the exception\n",
    "else:\n",
    "    # code to be executed if no exception is raised in the try block"
   ]
  },
  {
   "cell_type": "markdown",
   "id": "dc827c25",
   "metadata": {},
   "source": [
    "### The try block contains the code that may raise an exception, and the except block contains the code to handle the exception. If no exception is raised in the try block, the else block is executed. Here is an example:"
   ]
  },
  {
   "cell_type": "code",
   "execution_count": 5,
   "id": "48404ca3",
   "metadata": {},
   "outputs": [
    {
     "name": "stdout",
     "output_type": "stream",
     "text": [
      "Enter the value:data science masters\n",
      "That's not a valid number!\n"
     ]
    }
   ],
   "source": [
    "try:\n",
    "    x = int(input(\"Enter the value:\"))\n",
    "except ValueError:\n",
    "    print(\"That's not a valid number!\")\n",
    "else:\n",
    "    print(\"Your value is\",x)\n",
    "   "
   ]
  },
  {
   "cell_type": "markdown",
   "id": "b6aec8e8",
   "metadata": {},
   "source": [
    "### In this example, the user is prompted to enter a number. If the user enters a non-numeric value, a ValueError is raised, and the error message is displayed. If the user enters a valid number, the number is stored in the variable x, and a message is displayed showing the number entered.\n",
    "\n",
    "### b. finally is a keyword in Python that is used to define a block of code that will be executed after a try or except block, regardless of whether an exception was raised or not. The basic syntax for using finally is as follows:"
   ]
  },
  {
   "cell_type": "code",
   "execution_count": null,
   "id": "aaf6f4dd",
   "metadata": {},
   "outputs": [],
   "source": [
    "try:\n",
    "    # code that may raise an exception\n",
    "except:\n",
    "    # code to handle the exception\n",
    "finally:\n",
    "    # code to be executed whether an exception was raised or not"
   ]
  },
  {
   "cell_type": "markdown",
   "id": "314d7bf5",
   "metadata": {},
   "source": [
    "### Here is an example:"
   ]
  },
  {
   "cell_type": "code",
   "execution_count": 12,
   "id": "5be4a69c",
   "metadata": {},
   "outputs": [
    {
     "name": "stdout",
     "output_type": "stream",
     "text": [
      "An error occured!\n"
     ]
    }
   ],
   "source": [
    "try:\n",
    "    open(\"txt.file\" , \"r\")\n",
    "    print(f.read())\n",
    "except:\n",
    "    print(\"An error occured!\")\n",
    "finally:\n",
    "    f.close()"
   ]
  },
  {
   "cell_type": "markdown",
   "id": "6ffb1f96",
   "metadata": {},
   "source": [
    "### In this example, the try block attempts to open a file and read its contents. If an error occurs, the error message is displayed. The finally block ensures that the file is always closed, regardless of whether an error occurred or not.\n",
    "\n",
    "### c. raise is a keyword in Python used to raise an exception manually. The basic syntax for using raise is as follows:"
   ]
  },
  {
   "cell_type": "code",
   "execution_count": null,
   "id": "5e1069bf",
   "metadata": {},
   "outputs": [],
   "source": [
    "raise Exception(\"Error message\")\n"
   ]
  },
  {
   "cell_type": "markdown",
   "id": "da94e8c7",
   "metadata": {},
   "source": [
    "### Here is an example:"
   ]
  },
  {
   "cell_type": "code",
   "execution_count": 14,
   "id": "b15adc8c",
   "metadata": {},
   "outputs": [
    {
     "ename": "Exception",
     "evalue": "x should not exceed 5. The value of x was: 10",
     "output_type": "error",
     "traceback": [
      "\u001b[1;31m---------------------------------------------------------------------------\u001b[0m",
      "\u001b[1;31mException\u001b[0m                                 Traceback (most recent call last)",
      "\u001b[1;32m~\\AppData\\Local\\Temp\\ipykernel_12556\\3908409505.py\u001b[0m in \u001b[0;36m<module>\u001b[1;34m\u001b[0m\n\u001b[0;32m      1\u001b[0m \u001b[0mx\u001b[0m \u001b[1;33m=\u001b[0m \u001b[1;36m10\u001b[0m\u001b[1;33m\u001b[0m\u001b[1;33m\u001b[0m\u001b[0m\n\u001b[0;32m      2\u001b[0m \u001b[1;32mif\u001b[0m \u001b[0mx\u001b[0m \u001b[1;33m>\u001b[0m \u001b[1;36m5\u001b[0m \u001b[1;33m:\u001b[0m\u001b[1;33m\u001b[0m\u001b[1;33m\u001b[0m\u001b[0m\n\u001b[1;32m----> 3\u001b[1;33m     \u001b[1;32mraise\u001b[0m \u001b[0mException\u001b[0m\u001b[1;33m(\u001b[0m\u001b[1;34m\"x should not exceed 5. The value of x was: {}\"\u001b[0m\u001b[1;33m.\u001b[0m\u001b[0mformat\u001b[0m\u001b[1;33m(\u001b[0m\u001b[0mx\u001b[0m\u001b[1;33m)\u001b[0m\u001b[1;33m)\u001b[0m\u001b[1;33m\u001b[0m\u001b[1;33m\u001b[0m\u001b[0m\n\u001b[0m",
      "\u001b[1;31mException\u001b[0m: x should not exceed 5. The value of x was: 10"
     ]
    }
   ],
   "source": [
    "x = 10\n",
    "if x > 5 :\n",
    "    raise Exception(\"x should not exceed 5. The value of x was: {}\".format(x))"
   ]
  },
  {
   "cell_type": "markdown",
   "id": "b68ba7ff",
   "metadata": {},
   "source": [
    "### In this example, an exception is raised if the value of x exceeds 5. The error message contains the value of x that caused the exception to be raised. This is useful for providing more detailed information about the cause of the error."
   ]
  },
  {
   "cell_type": "markdown",
   "id": "9554994c",
   "metadata": {},
   "source": [
    "### Question no.5: What are Custom Exceptions in python ? Why do we need Custom Exceptions ? Explain with an example.\n",
    "### Answer: In Python, custom exceptions are user-defined exceptions that can be created to handle specific errors that are not covered by the built-in exceptions. Custom exceptions are created by defining a new class that inherits from the Exception class or one of its subclasses.\n",
    "\n",
    "### We need custom exceptions to provide more meaningful and descriptive error messages to the user. By defining custom exceptions, we can create more specific error messages that can help us debug our code more easily.\n",
    "\n",
    "### Here is an example of a custom exception:"
   ]
  },
  {
   "cell_type": "code",
   "execution_count": 21,
   "id": "3bdc15ff",
   "metadata": {},
   "outputs": [],
   "source": [
    "class InvalidAgeException(Exception):\n",
    "    def __init__(self,age):\n",
    "        self.age = age\n",
    "        self.message = f\"Invalid age :{age}.Age must be greater than 0.\"\n",
    "        super().__init__(self.message)"
   ]
  },
  {
   "cell_type": "markdown",
   "id": "71c59404",
   "metadata": {},
   "source": [
    "### In this example, we define a custom exception called InvalidAgeException that is raised when an invalid age is entered. The __init__ method takes the invalid age as an argument and stores it in the age attribute. It also creates a message that includes the invalid age and a description of the error. Finally, it calls the __init__ method of the base Exception class with the error message.\n",
    "\n",
    "### We can use this custom exception in our code as follows:"
   ]
  },
  {
   "cell_type": "code",
   "execution_count": 22,
   "id": "5827ba76",
   "metadata": {},
   "outputs": [
    {
     "name": "stdout",
     "output_type": "stream",
     "text": [
      "Invalid age :-5.Age must be greater than 0.\n"
     ]
    }
   ],
   "source": [
    "def validate_age(age):\n",
    "    if age<=0:\n",
    "        raise InvalidAgeException(age)\n",
    "    else:\n",
    "        print(\"Age is valid!\")\n",
    "try:\n",
    "    validate_age(-5)\n",
    "except InvalidAgeException as e:\n",
    "    print(e)"
   ]
  },
  {
   "cell_type": "markdown",
   "id": "8ee0bd75",
   "metadata": {},
   "source": [
    "### In this example, we define a function called validate_age that raises the InvalidAgeException if the age entered is less than or equal to 0. We then call the validate_age function with an invalid age (-5) and catch the InvalidAgeException that is raised. We print the error message, which includes the invalid age and a description of the error.\n",
    "\n",
    "### This example shows how custom exceptions can help us create more descriptive error messages and make our code more robust."
   ]
  },
  {
   "cell_type": "markdown",
   "id": "d68677a2",
   "metadata": {},
   "source": [
    "### Question no.6: Create a custom exception class.Use this class to handle an exception.\n",
    "### Answer:Sure, here's an example of creating a custom exception class and using it to handle an exception:"
   ]
  },
  {
   "cell_type": "code",
   "execution_count": 23,
   "id": "acd27e6b",
   "metadata": {},
   "outputs": [
    {
     "name": "stdout",
     "output_type": "stream",
     "text": [
      "An error occurred: Something went wrong.\n"
     ]
    }
   ],
   "source": [
    "class MyCustomException(Exception):\n",
    "    def __init__(self,message):\n",
    "        self.message = message\n",
    "try:\n",
    "    # Some code that could raise an exception\n",
    "    raise MyCustomException(\"Something went wrong.\")\n",
    "except MyCustomException as e:\n",
    "    print(\"An error occurred:\",e.message)"
   ]
  },
  {
   "cell_type": "markdown",
   "id": "7b4ac7c9",
   "metadata": {},
   "source": [
    "### In this example, we define a custom exception class MyCustomException that inherits from the built-in Exception class. The __init__ method takes a message argument and sets it as an instance variable.\n",
    "\n",
    "### Then, we use a try/except block to catch any instances of MyCustomException that are raised. Inside the except block, we can handle the exception in any way we see fit, such as printing an error message.\n",
    "\n",
    "### In this case, we print the error message that was passed to the exception instance using the e.message attribute. However, we could also choose to log the error, display a dialog box to the user, or take any other appropriate action."
   ]
  },
  {
   "cell_type": "code",
   "execution_count": null,
   "id": "d0d8c57d",
   "metadata": {},
   "outputs": [],
   "source": []
  }
 ],
 "metadata": {
  "kernelspec": {
   "display_name": "Python 3 (ipykernel)",
   "language": "python",
   "name": "python3"
  },
  "language_info": {
   "codemirror_mode": {
    "name": "ipython",
    "version": 3
   },
   "file_extension": ".py",
   "mimetype": "text/x-python",
   "name": "python",
   "nbconvert_exporter": "python",
   "pygments_lexer": "ipython3",
   "version": "3.9.13"
  }
 },
 "nbformat": 4,
 "nbformat_minor": 5
}
